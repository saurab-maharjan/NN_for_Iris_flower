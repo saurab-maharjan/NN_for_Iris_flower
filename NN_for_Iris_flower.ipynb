{
 "cells": [
  {
   "cell_type": "code",
   "execution_count": 12,
   "id": "883ce182",
   "metadata": {},
   "outputs": [],
   "source": [
    "import pandas as pd \n",
    "import numpy as np "
   ]
  },
  {
   "cell_type": "code",
   "execution_count": 13,
   "id": "9a645c9a",
   "metadata": {},
   "outputs": [],
   "source": [
    "df  = pd.read_csv('Iris.csv')\n",
    "df_shuffled = df.sample(frac=1,random_state=42).reset_index(drop=True)\n",
    "input_training_data = df_shuffled.loc[0:100,['SepalLengthCm','SepalWidthCm','PetalLengthCm','PetalWidthCm']]\n",
    "output_training_data = df_shuffled.loc[0:100,['Species']]\n",
    "\n",
    "input_testing_data = df_shuffled.loc[101:150,['SepalLengthCm','SepalWidthCm','PetalLengthCm','PetalWidthCm']]\n",
    "output_testing_data = df_shuffled.loc[101:150,['Species']]\n"
   ]
  },
  {
   "cell_type": "code",
   "execution_count": 14,
   "id": "1403b59f",
   "metadata": {},
   "outputs": [],
   "source": [
    "x_train = input_training_data.to_numpy()\n",
    "y_train = pd.get_dummies(output_training_data,columns=['Species'],dtype= int)\n",
    "y_train = y_train.to_numpy()\n",
    "y_train = np.transpose(y_train)\n",
    "x_test = input_testing_data.to_numpy()\n",
    "y_test = pd.get_dummies(output_testing_data,columns=['Species'],dtype=int)\n",
    "y_test = y_test.to_numpy()\n",
    "y_test = np.transpose(y_test)\n",
    "w1 = np.random.rand(3,4)\n",
    "w2 = np.random.rand(3,3)\n",
    "b1 = np.random.rand()\n",
    "b2 = np.random.rand()"
   ]
  },
  {
   "cell_type": "code",
   "execution_count": 15,
   "id": "b9fa0c89",
   "metadata": {},
   "outputs": [],
   "source": [
    "class Neural_Network:\n",
    "    def __init__(self,x,w1,w2,b1,b2,y):\n",
    "        self.x = x \n",
    "        self.w1 = w1 \n",
    "        self.w2 = w2 \n",
    "        self.b1 = b1 \n",
    "        self.b2 = b2 \n",
    "        self.y = y\n",
    "\n",
    "    def sigmoid(self,a):\n",
    "        return (1/(1+np.exp(-a)))\n",
    "        \n",
    "\n",
    "    def forward(self):\n",
    "        z1 = np.dot(self.w1,np.transpose(self.x)) + self.b1 \n",
    "        self.a1 = self.sigmoid(z1)\n",
    "        z2 = np.dot(self.w2,self.a1) + self.b2 \n",
    "        self.a2 = self.sigmoid(z2)\n",
    "        \n",
    "\n",
    "    def backward(self):\n",
    "        self.ddw2 = (self.y-self.a2)*self.a2*(1-self.a2)\n",
    "        self.dw2 = np.dot(self.a1,np.transpose(self.ddw2))\n",
    "        self.db2 = self.ddw2.sum(axis=0)\n",
    "        ddw1 = np.dot(self.w2,self.ddw2)  * self.a1 * (1 - self.a1)\n",
    "        self.dw1 = np.dot(ddw1,self.x) \n",
    "        self.db1 = ddw1 \n",
    "        \n",
    "\n",
    "    def training(self):\n",
    "        learning_rate = 1\n",
    "        epochs = 9000\n",
    "        for i in range(epochs):\n",
    "            self.forward()\n",
    "            self.backward()\n",
    "            self.w1 = self.w1 + self.dw1\n",
    "            self.w2 = self.w2 + self.dw2\n",
    "            self.b1 = self.b1 + self.db1\n",
    "            self.b2 = self.b2 + self.db2\n",
    "\n",
    "  \n",
    "\n",
    "\n",
    "w = Neural_Network(x_train,w1,w2,b1,b2,y_train)\n",
    "w.forward()\n",
    "# print(f\"This is the value before the training {w.a2}\")\n",
    "w.backward()\n",
    "w.training()"
   ]
  },
  {
   "cell_type": "code",
   "execution_count": 16,
   "id": "d818d611",
   "metadata": {},
   "outputs": [],
   "source": [
    "# print(f\"This is the value after the training {w.a2}\")"
   ]
  }
 ],
 "metadata": {
  "kernelspec": {
   "display_name": "Python 3",
   "language": "python",
   "name": "python3"
  },
  "language_info": {
   "codemirror_mode": {
    "name": "ipython",
    "version": 3
   },
   "file_extension": ".py",
   "mimetype": "text/x-python",
   "name": "python",
   "nbconvert_exporter": "python",
   "pygments_lexer": "ipython3",
   "version": "3.12.7"
  }
 },
 "nbformat": 4,
 "nbformat_minor": 5
}
