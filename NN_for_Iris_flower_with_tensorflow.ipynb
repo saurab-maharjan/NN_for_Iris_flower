{
 "cells": [
  {
   "cell_type": "code",
   "execution_count": null,
   "id": "6f9ea1d5",
   "metadata": {},
   "outputs": [],
   "source": [
    "import tensorflow as tf \n",
    "import keras \n",
    "from keras.layers import Dense \n",
    "import pandas as pd \n",
    "import numpy as np \n"
   ]
  },
  {
   "cell_type": "code",
   "execution_count": null,
   "id": "3f7cae34",
   "metadata": {},
   "outputs": [],
   "source": [
    "\n",
    "df  = pd.read_csv('Iris.csv')\n",
    "df_shuffled = df.sample(frac=1,random_state=42).reset_index(drop=True)\n",
    "input_training_data = df_shuffled.loc[0:100,['SepalLengthCm','SepalWidthCm','PetalLengthCm','PetalWidthCm']]\n",
    "output_training_data = df_shuffled.loc[0:100,['Species']]\n"
   ]
  },
  {
   "cell_type": "code",
   "execution_count": null,
   "id": "e6ecf371",
   "metadata": {},
   "outputs": [],
   "source": [
    "\n",
    "input_testing_data = df_shuffled.loc[101:150,['SepalLengthCm','SepalWidthCm','PetalLengthCm','PetalWidthCm']]\n",
    "output_testing_data = df_shuffled.loc[101:150,['Species']]\n",
    "x_train = input_training_data.to_numpy()\n",
    "y_train = pd.get_dummies(output_training_data,columns=['Species'],dtype= int)\n",
    "y_train = y_train.to_numpy()\n",
    "x_test = input_testing_data.to_numpy()\n",
    "y_test = pd.get_dummies(output_testing_data,columns=['Species'],dtype=int)\n",
    "y_test = y_test.to_numpy()\n"
   ]
  },
  {
   "cell_type": "code",
   "execution_count": null,
   "id": "be572074",
   "metadata": {},
   "outputs": [],
   "source": [
    "\n",
    "w1 = np.random.rand(3,4)\n",
    "w2 = np.random.rand(3,3)\n",
    "b1 = np.random.rand()\n",
    "b2 = np.random.rand()\n",
    "print(f\" x_train = {x_train.shape} y_train = {y_train.shape}\")\n"
   ]
  },
  {
   "cell_type": "code",
   "execution_count": null,
   "id": "6b952a06",
   "metadata": {},
   "outputs": [],
   "source": [
    "\n",
    "model = keras.Sequential()\n",
    "model.add(keras.Input(shape=(4,)))\n",
    "model.add(Dense(5,activation = 'relu' ))\n",
    "model.add(Dense(5,activation='relu'))\n",
    "model.add(Dense(3,activation='softmax'))\n"
   ]
  },
  {
   "cell_type": "code",
   "execution_count": null,
   "id": "6dc61830",
   "metadata": {},
   "outputs": [],
   "source": [
    "\n",
    "model.compile(optimizer='adam',loss = 'categorical_crossentropy', metrics=['accuracy'])\n",
    "model.fit(x_train,y_train , epochs = 900 , batch_size=32,validation_split=0.2 )\n"
   ]
  },
  {
   "cell_type": "code",
   "execution_count": null,
   "id": "08a90021",
   "metadata": {},
   "outputs": [],
   "source": [
    "\n",
    "# evaluate accuracy \n",
    "loss , accuracy = model.evaluate(x_test,y_test,verbose=0)\n",
    "print(f\"accuracy = {accuracy}\")\n",
    " \n",
    "# Make predictions \n",
    "predictions = model.predict(x_test)\n",
    "\n",
    "# Get the index of max value in each row\n",
    "max_indices = np.argmax(predictions, axis=1)\n",
    "\n",
    "# Convert to one-hot encoded array\n",
    "one_hot_predictions = np.eye(predictions.shape[1])[max_indices]\n",
    "\n",
    "print(one_hot_predictions)\n"
   ]
  },
  {
   "cell_type": "code",
   "execution_count": null,
   "id": "6b881a60",
   "metadata": {},
   "outputs": [],
   "source": [
    "\n",
    "y_test"
   ]
  }
 ],
 "metadata": {
  "kernelspec": {
   "display_name": "Python 3",
   "language": "python",
   "name": "python3"
  },
  "language_info": {
   "name": "python",
   "version": "3.12.7"
  }
 },
 "nbformat": 4,
 "nbformat_minor": 5
}
